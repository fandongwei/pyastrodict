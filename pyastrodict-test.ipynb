{
 "cells": [
  {
   "cell_type": "code",
   "execution_count": 1,
   "metadata": {
    "collapsed": true
   },
   "outputs": [],
   "source": [
    "from pyastrodict import astrodict\n",
    "dict=astrodict()"
   ]
  },
  {
   "cell_type": "code",
   "execution_count": 2,
   "metadata": {},
   "outputs": [
    {
     "data": {
      "text/plain": [
       "23162"
      ]
     },
     "execution_count": 2,
     "metadata": {},
     "output_type": "execute_result"
    }
   ],
   "source": [
    "dict.publicwordscount()"
   ]
  },
  {
   "cell_type": "code",
   "execution_count": 3,
   "metadata": {},
   "outputs": [
    {
     "name": "stdout",
     "output_type": "stream",
     "text": [
      "ID : 4202\n",
      "ENG : Vega\n",
      "abbreviation : \n",
      "language : 英语\n",
      "CN : 织女一; 织女星\n",
      "--------------\n",
      "ID : 4203\n",
      "ENG : Vega\n",
      "abbreviation : \n",
      "language : 英语\n",
      "CN : 维加\n",
      "--------------\n",
      "ID : 20757\n",
      "ENG : Vega crater\n",
      "abbreviation : \n",
      "language : 英语\n",
      "CN : 韦加环形山\n",
      "--------------\n",
      "ID : 4204\n",
      "ENG : Vega phenomenon\n",
      "abbreviation : \n",
      "language : 英语\n",
      "CN : 织女星现象\n",
      "--------------\n"
     ]
    }
   ],
   "source": [
    "data = dict.precise('vega')\n",
    "for w in data:\n",
    "    for k,v in w.items():\n",
    "        print(k,':',v)\n",
    "    print('--------------')"
   ]
  },
  {
   "cell_type": "code",
   "execution_count": 4,
   "metadata": {},
   "outputs": [
    {
     "name": "stdout",
     "output_type": "stream",
     "text": [
      "ID : 4707\n",
      "ENG : active galactic nucleus\n",
      "abbreviation : AGN\n",
      "language : 英语\n",
      "CN : 活动星系核\n",
      "--------------\n",
      "ID : 4708\n",
      "ENG : active galaxy\n",
      "abbreviation : \n",
      "language : 英语\n",
      "CN : 活动星系\n",
      "--------------\n",
      "ID : 8049\n",
      "ENG : directive gain\n",
      "abbreviation : \n",
      "language : 英语\n",
      "CN : 定向增益\n",
      "--------------\n",
      "ID : 8985\n",
      "ENG : eruptive galaxy; exploding galaxy; explosive galaxy\n",
      "abbreviation : \n",
      "language : 英语\n",
      "CN : 爆发星系\n",
      "--------------\n",
      "ID : 12615\n",
      "ENG : massive galaxy\n",
      "abbreviation : \n",
      "language : 英语\n",
      "CN : 大质量星系\n",
      "--------------\n",
      "ID : 21667\n",
      "ENG : unified model of active galactic nuclei\n",
      "abbreviation : \n",
      "language : 英语\n",
      "CN : 活动星系核统一模型\n",
      "--------------\n",
      "ID : 4202\n",
      "ENG : Vega\n",
      "abbreviation : \n",
      "language : 英语\n",
      "CN : 织女一; 织女星\n",
      "--------------\n",
      "ID : 4203\n",
      "ENG : Vega\n",
      "abbreviation : \n",
      "language : 英语\n",
      "CN : 维加\n",
      "--------------\n",
      "ID : 20757\n",
      "ENG : Vega crater\n",
      "abbreviation : \n",
      "language : 英语\n",
      "CN : 韦加环形山\n",
      "--------------\n",
      "ID : 4204\n",
      "ENG : Vega phenomenon\n",
      "abbreviation : \n",
      "language : 英语\n",
      "CN : 织女星现象\n",
      "--------------\n",
      "ID : 4205\n",
      "ENG : Vega-like object\n",
      "abbreviation : \n",
      "language : 英语\n",
      "CN : 类织女天体\n",
      "--------------\n"
     ]
    }
   ],
   "source": [
    "data=dict.fuzzy('vega')\n",
    "for w in data:\n",
    "    for k,v in w.items():\n",
    "        print(k,':',v)\n",
    "    print('--------------')"
   ]
  },
  {
   "cell_type": "code",
   "execution_count": 5,
   "metadata": {
    "scrolled": false
   },
   "outputs": [],
   "source": [
    "data=dict.termdetails(47022)\n",
    "for k,v in data.items():\n",
    "    print(k,':',v)"
   ]
  }
 ],
 "metadata": {
  "kernelspec": {
   "display_name": "Python 3",
   "language": "python",
   "name": "python3"
  },
  "language_info": {
   "codemirror_mode": {
    "name": "ipython",
    "version": 3
   },
   "file_extension": ".py",
   "mimetype": "text/x-python",
   "name": "python",
   "nbconvert_exporter": "python",
   "pygments_lexer": "ipython3",
   "version": "3.6.3"
  }
 },
 "nbformat": 4,
 "nbformat_minor": 2
}

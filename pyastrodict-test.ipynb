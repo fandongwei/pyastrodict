{
 "cells": [
  {
   "cell_type": "markdown",
   "metadata": {},
   "source": [
    "### import astrodict"
   ]
  },
  {
   "cell_type": "code",
   "execution_count": 1,
   "metadata": {
    "collapsed": true
   },
   "outputs": [],
   "source": [
    "from pyastrodict import astrodict\n",
    "dict=astrodict()"
   ]
  },
  {
   "cell_type": "markdown",
   "metadata": {},
   "source": [
    "### get the number of public words"
   ]
  },
  {
   "cell_type": "code",
   "execution_count": 2,
   "metadata": {},
   "outputs": [
    {
     "data": {
      "text/plain": [
       "23162"
      ]
     },
     "execution_count": 2,
     "metadata": {},
     "output_type": "execute_result"
    }
   ],
   "source": [
    "dict.publicwordscount()"
   ]
  },
  {
   "cell_type": "markdown",
   "metadata": {},
   "source": [
    "### precisely query a word"
   ]
  },
  {
   "cell_type": "code",
   "execution_count": 3,
   "metadata": {},
   "outputs": [
    {
     "name": "stdout",
     "output_type": "stream",
     "text": [
      "ID : 4202\n",
      "ENG : Vega\n",
      "abbreviation : \n",
      "language : 英语\n",
      "CN : 织女一; 织女星\n",
      "--------------\n",
      "ID : 4203\n",
      "ENG : Vega\n",
      "abbreviation : \n",
      "language : 英语\n",
      "CN : 维加\n",
      "--------------\n",
      "ID : 20757\n",
      "ENG : Vega crater\n",
      "abbreviation : \n",
      "language : 英语\n",
      "CN : 韦加环形山\n",
      "--------------\n",
      "ID : 4204\n",
      "ENG : Vega phenomenon\n",
      "abbreviation : \n",
      "language : 英语\n",
      "CN : 织女星现象\n",
      "--------------\n"
     ]
    }
   ],
   "source": [
    "data = dict.precise('vega')\n",
    "for w in data:\n",
    "    for k,v in w.items():\n",
    "        print(k,':',v)\n",
    "    print('--------------')"
   ]
  },
  {
   "cell_type": "markdown",
   "metadata": {},
   "source": [
    "### fuzzy query a word"
   ]
  },
  {
   "cell_type": "code",
   "execution_count": 4,
   "metadata": {},
   "outputs": [
    {
     "name": "stdout",
     "output_type": "stream",
     "text": [
      "ID : 4707\n",
      "ENG : active galactic nucleus\n",
      "abbreviation : AGN\n",
      "language : 英语\n",
      "CN : 活动星系核\n",
      "--------------\n",
      "ID : 4708\n",
      "ENG : active galaxy\n",
      "abbreviation : \n",
      "language : 英语\n",
      "CN : 活动星系\n",
      "--------------\n",
      "ID : 8049\n",
      "ENG : directive gain\n",
      "abbreviation : \n",
      "language : 英语\n",
      "CN : 定向增益\n",
      "--------------\n",
      "ID : 8985\n",
      "ENG : eruptive galaxy; exploding galaxy; explosive galaxy\n",
      "abbreviation : \n",
      "language : 英语\n",
      "CN : 爆发星系\n",
      "--------------\n",
      "ID : 12615\n",
      "ENG : massive galaxy\n",
      "abbreviation : \n",
      "language : 英语\n",
      "CN : 大质量星系\n",
      "--------------\n",
      "ID : 21667\n",
      "ENG : unified model of active galactic nuclei\n",
      "abbreviation : \n",
      "language : 英语\n",
      "CN : 活动星系核统一模型\n",
      "--------------\n",
      "ID : 4202\n",
      "ENG : Vega\n",
      "abbreviation : \n",
      "language : 英语\n",
      "CN : 织女一; 织女星\n",
      "--------------\n",
      "ID : 4203\n",
      "ENG : Vega\n",
      "abbreviation : \n",
      "language : 英语\n",
      "CN : 维加\n",
      "--------------\n",
      "ID : 20757\n",
      "ENG : Vega crater\n",
      "abbreviation : \n",
      "language : 英语\n",
      "CN : 韦加环形山\n",
      "--------------\n",
      "ID : 4204\n",
      "ENG : Vega phenomenon\n",
      "abbreviation : \n",
      "language : 英语\n",
      "CN : 织女星现象\n",
      "--------------\n",
      "ID : 4205\n",
      "ENG : Vega-like object\n",
      "abbreviation : \n",
      "language : 英语\n",
      "CN : 类织女天体\n",
      "--------------\n"
     ]
    }
   ],
   "source": [
    "data=dict.fuzzy('vega')\n",
    "for w in data:\n",
    "    for k,v in w.items():\n",
    "        print(k,':',v)\n",
    "    print('--------------')"
   ]
  },
  {
   "cell_type": "markdown",
   "metadata": {},
   "source": [
    "### retrieve detail of a word"
   ]
  },
  {
   "cell_type": "code",
   "execution_count": 5,
   "metadata": {
    "scrolled": false
   },
   "outputs": [
    {
     "name": "stdout",
     "output_type": "stream",
     "text": [
      "ID : 4\n",
      "UID : 4\n",
      "ENG : 11-year solar cycle\n",
      "abbreviation : \n",
      "language : 英语\n",
      "CN : 11年太阳活动周\n",
      "pinyin : 1 1 nian2 tai4 yang2 huo2 dong4 zhou1 \n",
      "fanti : 11年太陽活動周\n",
      "taiwan : \n",
      "status : 2\n",
      "source : 1\n",
      "category : 09\n",
      "class : 09太阳\n",
      "tag : \n",
      "annotation : \n",
      "examples : \n",
      "comments : \n",
      "created : 2010-04-15 00:00:00\n",
      "updated : 2010-04-15 00:00:00\n",
      "catalog : \n",
      "sourceText : 《英汉天文学名词》收录词汇，上海科教出版社，2000\n",
      "statusText : 已出版\n"
     ]
    }
   ],
   "source": [
    "import datetime\n",
    "data=dict.termdetails(4)\n",
    "for k,v in data.items():\n",
    "    if k in ['created','updated']:\n",
    "        dt = datetime.datetime.fromtimestamp(int(v)/ 1e3)\n",
    "        print(k,':', dt.strftime('%Y-%m-%d %H:%M:%S'))\n",
    "    else:\n",
    "        print(k,':',v)"
   ]
  }
 ],
 "metadata": {
  "kernelspec": {
   "display_name": "Python 3",
   "language": "python",
   "name": "python3"
  },
  "language_info": {
   "codemirror_mode": {
    "name": "ipython",
    "version": 3
   },
   "file_extension": ".py",
   "mimetype": "text/x-python",
   "name": "python",
   "nbconvert_exporter": "python",
   "pygments_lexer": "ipython3",
   "version": "3.6.3"
  }
 },
 "nbformat": 4,
 "nbformat_minor": 2
}
